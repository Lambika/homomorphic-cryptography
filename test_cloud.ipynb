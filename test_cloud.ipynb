{
 "cells": [
  {
   "cell_type": "code",
   "execution_count": 12,
   "id": "8397ee7f",
   "metadata": {
    "notebookRunGroups": {
     "groupValue": "2"
    }
   },
   "outputs": [
    {
     "name": "stdout",
     "output_type": "stream",
     "text": [
      "25-04-29 14:27:30 - public key is restored from public.txt\n"
     ]
    }
   ],
   "source": [
    "from lightphe  import LightPHE\n",
    "cs =LightPHE(algorithm_name=\"RSA\", key_file=\"public.txt\")\n",
    "\n",
    "\n",
    "c1=cs.create_ciphertext_obj(20027277502470577333421293987544017184369559425738512101406281787307706947631450122710941479516643291870411051288043421343581436520348819591385605320878814528981967498675719499928463777653473117182464110331075777137308020933247761316400900825791201347109623551024634950836558516697016960420630380222583797827)\n",
    "\n",
    "\n",
    "c2=cs.create_ciphertext_obj(14283070374317322312111895481423462614772812287004815105898726854125937143820263565486624398337791480003672570505848132669746077999774120887401128934440980014120116638922674028037855769819948219365602750088433928699035208243498051632832064525977686089736187404727620221455443250736495488320311949591277717647)\n",
    "\n",
    "  "
   ]
  },
  {
   "cell_type": "code",
   "execution_count": 14,
   "id": "88f5b79e",
   "metadata": {},
   "outputs": [
    {
     "ename": "ValueError",
     "evalue": "RSA is not homomorphic with respect to the addition",
     "output_type": "error",
     "traceback": [
      "\u001b[1;31m---------------------------------------------------------------------------\u001b[0m",
      "\u001b[1;31mValueError\u001b[0m                                Traceback (most recent call last)",
      "Cell \u001b[1;32mIn[14], line 1\u001b[0m\n\u001b[1;32m----> 1\u001b[0m c3\u001b[38;5;241m=\u001b[39m(\u001b[43mc1\u001b[49m\u001b[38;5;241;43m+\u001b[39;49m\u001b[43mc2\u001b[49m)\n\u001b[0;32m      2\u001b[0m c3\n",
      "File \u001b[1;32mc:\\Users\\Lambika\\AppData\\Local\\Programs\\Python\\Python39\\lib\\site-packages\\lightphe\\models\\Ciphertext.py:76\u001b[0m, in \u001b[0;36mCiphertext.__add__\u001b[1;34m(self, other)\u001b[0m\n\u001b[0;32m     73\u001b[0m \u001b[38;5;28;01mif\u001b[39;00m \u001b[38;5;28mself\u001b[39m\u001b[38;5;241m.\u001b[39mcs\u001b[38;5;241m.\u001b[39mkeys\u001b[38;5;241m.\u001b[39mget(\u001b[38;5;124m\"\u001b[39m\u001b[38;5;124mpublic_key\u001b[39m\u001b[38;5;124m\"\u001b[39m) \u001b[38;5;129;01mis\u001b[39;00m \u001b[38;5;28;01mNone\u001b[39;00m:\n\u001b[0;32m     74\u001b[0m     \u001b[38;5;28;01mraise\u001b[39;00m \u001b[38;5;167;01mValueError\u001b[39;00m(\u001b[38;5;124m\"\u001b[39m\u001b[38;5;124mYou must have public key to perform homomorphic addition\u001b[39m\u001b[38;5;124m\"\u001b[39m)\n\u001b[1;32m---> 76\u001b[0m result \u001b[38;5;241m=\u001b[39m \u001b[38;5;28;43mself\u001b[39;49m\u001b[38;5;241;43m.\u001b[39;49m\u001b[43mcs\u001b[49m\u001b[38;5;241;43m.\u001b[39;49m\u001b[43madd\u001b[49m\u001b[43m(\u001b[49m\u001b[43mciphertext1\u001b[49m\u001b[38;5;241;43m=\u001b[39;49m\u001b[38;5;28;43mself\u001b[39;49m\u001b[38;5;241;43m.\u001b[39;49m\u001b[43mvalue\u001b[49m\u001b[43m,\u001b[49m\u001b[43m \u001b[49m\u001b[43mciphertext2\u001b[49m\u001b[38;5;241;43m=\u001b[39;49m\u001b[43mother\u001b[49m\u001b[38;5;241;43m.\u001b[39;49m\u001b[43mvalue\u001b[49m\u001b[43m)\u001b[49m\n\u001b[0;32m     77\u001b[0m \u001b[38;5;28;01mreturn\u001b[39;00m Ciphertext(\n\u001b[0;32m     78\u001b[0m     algorithm_name\u001b[38;5;241m=\u001b[39m\u001b[38;5;28mself\u001b[39m\u001b[38;5;241m.\u001b[39malgorithm_name, keys\u001b[38;5;241m=\u001b[39m\u001b[38;5;28mself\u001b[39m\u001b[38;5;241m.\u001b[39mkeys, value\u001b[38;5;241m=\u001b[39mresult\n\u001b[0;32m     79\u001b[0m )\n",
      "File \u001b[1;32mc:\\Users\\Lambika\\AppData\\Local\\Programs\\Python\\Python39\\lib\\site-packages\\lightphe\\models\\Homomorphic.py:37\u001b[0m, in \u001b[0;36mHomomorphic.add\u001b[1;34m(self, ciphertext1, ciphertext2)\u001b[0m\n\u001b[0;32m     34\u001b[0m \u001b[38;5;28;01mdef\u001b[39;00m \u001b[38;5;21madd\u001b[39m(\n\u001b[0;32m     35\u001b[0m     \u001b[38;5;28mself\u001b[39m, ciphertext1: Union[\u001b[38;5;28mint\u001b[39m, \u001b[38;5;28mtuple\u001b[39m, \u001b[38;5;28mlist\u001b[39m], ciphertext2: Union[\u001b[38;5;28mint\u001b[39m, \u001b[38;5;28mtuple\u001b[39m, \u001b[38;5;28mlist\u001b[39m]\n\u001b[0;32m     36\u001b[0m ) \u001b[38;5;241m-\u001b[39m\u001b[38;5;241m>\u001b[39m Union[\u001b[38;5;28mint\u001b[39m, \u001b[38;5;28mtuple\u001b[39m, \u001b[38;5;28mlist\u001b[39m]:\n\u001b[1;32m---> 37\u001b[0m     \u001b[38;5;28;01mraise\u001b[39;00m \u001b[38;5;167;01mValueError\u001b[39;00m(\u001b[38;5;124mf\u001b[39m\u001b[38;5;124m\"\u001b[39m\u001b[38;5;132;01m{\u001b[39;00m\u001b[38;5;28mself\u001b[39m\u001b[38;5;241m.\u001b[39mget_algorithm_name()\u001b[38;5;132;01m}\u001b[39;00m\u001b[38;5;124m is not homomorphic with respect to the addition\u001b[39m\u001b[38;5;124m\"\u001b[39m)\n",
      "\u001b[1;31mValueError\u001b[0m: RSA is not homomorphic with respect to the addition"
     ]
    }
   ],
   "source": [
    "c3=(c1+c2)\n",
    "c3\n"
   ]
  }
 ],
 "metadata": {
  "kernelspec": {
   "display_name": "Python 3",
   "language": "python",
   "name": "python3"
  },
  "language_info": {
   "codemirror_mode": {
    "name": "ipython",
    "version": 3
   },
   "file_extension": ".py",
   "mimetype": "text/x-python",
   "name": "python",
   "nbconvert_exporter": "python",
   "pygments_lexer": "ipython3",
   "version": "3.9.7"
  }
 },
 "nbformat": 4,
 "nbformat_minor": 5
}
