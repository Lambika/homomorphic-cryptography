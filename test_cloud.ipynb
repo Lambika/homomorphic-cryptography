{
 "cells": [
  {
   "cell_type": "code",
   "execution_count": 8,
   "id": "8397ee7f",
   "metadata": {
    "notebookRunGroups": {
     "groupValue": "2"
    }
   },
   "outputs": [
    {
     "name": "stdout",
     "output_type": "stream",
     "text": [
      "25-04-29 14:56:09 - public key is restored from public.txt\n"
     ]
    }
   ],
   "source": [
    "from lightphe  import LightPHE\n",
    "cs =LightPHE(algorithm_name=\"RSA\", key_file=\"public.txt\")\n",
    "\n",
    "\n",
    "c1=cs.create_ciphertext_obj(44881262835477546453561614790427945096723156796920414039010304459017227725434126444637248283802945236402389294735716263651277713788482765157758462866556012995675357168881599689196703944543751597556635736291381453829681538565556304053081969727904116593267924395613195144630778937130525363795866097944346240278)\n",
    "\n",
    "\n",
    "c2=cs.create_ciphertext_obj(65995583566170043886978689963640496263944568210755342286327938339553517279810255157073909418737493321684184265541914943774712400423796300190252409532328752718152364215940269497008579033277561098302667558504668441902578400165719731102431228990283486833208743279265961812782424489859556028673760945208388017428)\n",
    "\n",
    "  "
   ]
  },
  {
   "cell_type": "code",
   "execution_count": 14,
   "id": "88f5b79e",
   "metadata": {},
   "outputs": [
    {
     "data": {
      "text/plain": [
       "Ciphertext(30646895463297186361475946638760844481461864970476617154819849992770845262487154395434800949173616096880723603728252881726131412460459293588120642994824573788548279585337931385412320606862953142887974999430427427340557704462019798420164087722424898604993410959581537251686931040942449806913817331650969784141)"
      ]
     },
     "execution_count": 14,
     "metadata": {},
     "output_type": "execute_result"
    }
   ],
   "source": [
    "c3=c1*c2\n",
    "c3\n",
    "#Avec Pailler je peux faire c1+c2 et  multiplication par une constante\n",
    "#Avec RSA je peux faire uniquement des multiplications combinatoire entre c1,c2\n"
   ]
  }
 ],
 "metadata": {
  "kernelspec": {
   "display_name": "Python 3",
   "language": "python",
   "name": "python3"
  },
  "language_info": {
   "codemirror_mode": {
    "name": "ipython",
    "version": 3
   },
   "file_extension": ".py",
   "mimetype": "text/x-python",
   "name": "python",
   "nbconvert_exporter": "python",
   "pygments_lexer": "ipython3",
   "version": "3.9.7"
  }
 },
 "nbformat": 4,
 "nbformat_minor": 5
}
