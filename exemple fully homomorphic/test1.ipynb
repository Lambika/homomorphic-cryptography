{
 "cells": [
  {
   "cell_type": "code",
   "execution_count": 22,
   "id": "4ed79324",
   "metadata": {},
   "outputs": [
    {
     "ename": "ModuleNotFoundError",
     "evalue": "No module named 'Pyfhel'",
     "output_type": "error",
     "traceback": [
      "\u001b[1;31m---------------------------------------------------------------------------\u001b[0m",
      "\u001b[1;31mModuleNotFoundError\u001b[0m                       Traceback (most recent call last)",
      "Cell \u001b[1;32mIn[22], line 1\u001b[0m\n\u001b[1;32m----> 1\u001b[0m \u001b[38;5;28;01mfrom\u001b[39;00m \u001b[38;5;21;01mPyfhel\u001b[39;00m \u001b[38;5;28;01mimport\u001b[39;00m Pyfhel, PyCtxt, PyPtxt\n\u001b[0;32m      3\u001b[0m HE \u001b[38;5;241m=\u001b[39m Pyfhel()                 \u001b[38;5;66;03m# Création de l'objet\u001b[39;00m\n\u001b[0;32m      4\u001b[0m HE\u001b[38;5;241m.\u001b[39mcontextGen(p\u001b[38;5;241m=\u001b[39m\u001b[38;5;241m65537\u001b[39m)         \u001b[38;5;66;03m# Génération du contexte\u001b[39;00m\n",
      "\u001b[1;31mModuleNotFoundError\u001b[0m: No module named 'Pyfhel'"
     ]
    }
   ],
   "source": [
    "from Pyfhel import Pyfhel, PyCtxt, PyPtxt\n",
    "\n",
    "HE = Pyfhel()                 # Création de l'objet\n",
    "HE.contextGen(p=65537)         # Génération du contexte\n",
    "HE.keyGen()                   # Génération des clés\n",
    "\n",
    "ctxt = HE.encryptInt(42)       # Chiffrer le nombre 42\n",
    "result = HE.decryptInt(ctxt)   # Déchiffrer\n",
    "\n",
    "print(result)\n",
    "\n"
   ]
  }
 ],
 "metadata": {
  "kernelspec": {
   "display_name": "Python 3",
   "language": "python",
   "name": "python3"
  },
  "language_info": {
   "codemirror_mode": {
    "name": "ipython",
    "version": 3
   },
   "file_extension": ".py",
   "mimetype": "text/x-python",
   "name": "python",
   "nbconvert_exporter": "python",
   "pygments_lexer": "ipython3",
   "version": "3.9.7"
  }
 },
 "nbformat": 4,
 "nbformat_minor": 5
}
