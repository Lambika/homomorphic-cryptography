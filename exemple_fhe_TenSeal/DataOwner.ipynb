{
 "cells": [
  {
   "cell_type": "code",
   "execution_count": 28,
   "id": "4ed79324",
   "metadata": {},
   "outputs": [],
   "source": [
    "import tenseal as ts\n",
    "import utils"
   ]
  },
  {
   "cell_type": "code",
   "execution_count": 29,
   "id": "9edfa97f",
   "metadata": {},
   "outputs": [],
   "source": [
    "contexte= ts.context(\n",
    "    ts.SCHEME_TYPE.CKKS,\n",
    "    poly_modulus_degree=8192,\n",
    "    coeff_mod_bit_sizes=[60, 40, 40, 60])\n"
   ]
  },
  {
   "cell_type": "code",
   "execution_count": 30,
   "id": "c43a336d",
   "metadata": {},
   "outputs": [],
   "source": [
    "contexte.generate_galois_keys()\n",
    "contexte.global_scale = 2**40\n",
    " "
   ]
  },
  {
   "cell_type": "code",
   "execution_count": 31,
   "id": "08dadb03",
   "metadata": {},
   "outputs": [],
   "source": [
    "secret_contexte = contexte.serialize(save_secret_key=True)\n",
    "utils.write_data(\"keys/secret_key.txt\", secret_contexte)"
   ]
  },
  {
   "cell_type": "code",
   "execution_count": 32,
   "id": "95101e2a",
   "metadata": {},
   "outputs": [],
   "source": [
    "contexte.make_context_public()\n",
    "public_contexte = contexte.serialize()\n",
    "utils.write_data(\"keys/public_key.txt\", public_contexte)"
   ]
  },
  {
   "cell_type": "markdown",
   "id": "2924afc9",
   "metadata": {},
   "source": [
    "# Cryptage"
   ]
  },
  {
   "cell_type": "code",
   "execution_count": 43,
   "id": "956f517f",
   "metadata": {},
   "outputs": [],
   "source": [
    "contexte=ts.context_from(utils.read_data(\"keys/secret_key.txt\"))"
   ]
  },
  {
   "cell_type": "code",
   "execution_count": 44,
   "id": "0af88ff6",
   "metadata": {},
   "outputs": [],
   "source": [
    "salary=[10000]\n"
   ]
  },
  {
   "cell_type": "code",
   "execution_count": 45,
   "id": "5a45869b",
   "metadata": {},
   "outputs": [],
   "source": [
    "salary_encrypted = ts.ckks_vector(contexte, salary)"
   ]
  },
  {
   "cell_type": "code",
   "execution_count": 46,
   "id": "e2ca4b52",
   "metadata": {},
   "outputs": [],
   "source": [
    "utils.write_data(\"outputs/salary_encrypted.txt\", salary_encrypted.serialize())"
   ]
  },
  {
   "cell_type": "markdown",
   "id": "ee26f7f8",
   "metadata": {},
   "source": [
    "# Décryptage\n"
   ]
  },
  {
   "cell_type": "code",
   "execution_count": 47,
   "id": "ba1a829f",
   "metadata": {},
   "outputs": [],
   "source": [
    "m_proto=utils.read_data(\"outputs/salary_encrypted_new.txt\")\n",
    "m=ts.lazy_ckks_vector_from(m_proto ) \n",
    "m.link_context(contexte)\n"
   ]
  },
  {
   "cell_type": "code",
   "execution_count": 50,
   "id": "cfa9b2bc",
   "metadata": {},
   "outputs": [
    {
     "data": {
      "text/plain": [
       "12600.0"
      ]
     },
     "execution_count": 50,
     "metadata": {},
     "output_type": "execute_result"
    }
   ],
   "source": [
    "round(m.decrypt()[0], 2)\n"
   ]
  }
 ],
 "metadata": {
  "kernelspec": {
   "display_name": "Python 3",
   "language": "python",
   "name": "python3"
  },
  "language_info": {
   "codemirror_mode": {
    "name": "ipython",
    "version": 3
   },
   "file_extension": ".py",
   "mimetype": "text/x-python",
   "name": "python",
   "nbconvert_exporter": "python",
   "pygments_lexer": "ipython3",
   "version": "3.9.7"
  }
 },
 "nbformat": 4,
 "nbformat_minor": 5
}
