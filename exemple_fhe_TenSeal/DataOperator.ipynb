{
 "cells": [
  {
   "cell_type": "code",
   "execution_count": 22,
   "id": "0d061172",
   "metadata": {},
   "outputs": [],
   "source": [
    "import tenseal as ts\n",
    "import utils"
   ]
  },
  {
   "cell_type": "code",
   "execution_count": 23,
   "id": "060d7eb7",
   "metadata": {},
   "outputs": [],
   "source": [
    "contexte = ts.context_from(utils.read_data(\"keys/public_key.txt\"))"
   ]
  },
  {
   "cell_type": "markdown",
   "id": "1530d7a2",
   "metadata": {},
   "source": [
    "# Calcul\n"
   ]
  },
  {
   "cell_type": "code",
   "execution_count": 24,
   "id": "ba338c78",
   "metadata": {},
   "outputs": [],
   "source": [
    "salary_proto=utils.read_data(\"outputs/salary_encrypted.txt\")\n",
    "salary_encrypted=ts.lazy_ckks_vector_from(salary_proto)\n",
    "salary_encrypted.link_context(contexte)\n"
   ]
  },
  {
   "cell_type": "markdown",
   "id": "78aa539f",
   "metadata": {},
   "source": [
    "\n",
    "# augumentation de salaire de 20%"
   ]
  },
  {
   "cell_type": "code",
   "execution_count": 25,
   "id": "f5fa06f7",
   "metadata": {},
   "outputs": [],
   "source": [
    "wage_increase_rate_plain =ts.plain_tensor([1.2])\n",
    "bonus_addition = ts.plain_tensor([600])\n"
   ]
  },
  {
   "cell_type": "code",
   "execution_count": 26,
   "id": "bf54f2f9",
   "metadata": {},
   "outputs": [],
   "source": [
    "salary_new= (salary_encrypted * wage_increase_rate_plain) + bonus_addition\n",
    "utils.write_data(\"outputs/salary_encrypted_new.txt\", salary_new.serialize())\n"
   ]
  }
 ],
 "metadata": {
  "kernelspec": {
   "display_name": "Python 3",
   "language": "python",
   "name": "python3"
  },
  "language_info": {
   "codemirror_mode": {
    "name": "ipython",
    "version": 3
   },
   "file_extension": ".py",
   "mimetype": "text/x-python",
   "name": "python",
   "nbconvert_exporter": "python",
   "pygments_lexer": "ipython3",
   "version": "3.9.7"
  }
 },
 "nbformat": 4,
 "nbformat_minor": 5
}
