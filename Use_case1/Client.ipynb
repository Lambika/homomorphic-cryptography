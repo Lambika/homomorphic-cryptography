{
 "cells": [
  {
   "cell_type": "markdown",
   "id": "93cb7d47",
   "metadata": {},
   "source": [
    "L'idée : Mise en situation réelle , je dispose d'une base de données simple, je vais donc la crypter homomorphiquement et envoyer son cryptage au serveur afin de traiter la traiter et la manipuler , je peux à la fin choisir si je souhaite rècupèrer les modifications qui ont été fait par le serveur.\n"
   ]
  },
  {
   "cell_type": "markdown",
   "id": "0463fb45",
   "metadata": {},
   "source": [
    "Dataset content  : \n",
    "\n",
    "id : Identifiant unique du patient.\n",
    "\n",
    "HR_min, HR_max : Fréquence cardiaque minimale et maximale.\n",
    "\n",
    "SBP_min, SBP_max : Pression artérielle systolique minimale et maximale.\n",
    "\n",
    "DBP_min, DBP_max : Pression artérielle diastolique minimale et maximale.\n",
    "\n",
    "SAPSII : Score de gravité (Simplified Acute Physiology Score II).\n",
    "\n",
    "RR : Fréquence respiratoire.\n",
    "\n",
    "GCS : Score de Glasgow (évaluation de l'état de conscience).\n",
    "\n",
    "Dates : Dates d'admission à l'hôpital, en soins intensifs, de sortie ou de décès.\n",
    "\n",
    "Données biologiques :\n",
    "\n",
    "ddimere_J1 à J5 : D-dimères (marqueur de coagulation) sur 5 jours.\n",
    "\n",
    "crp_J1 à J5 : Protéine C-réactive (marqueur inflammatoire) sur 5 jours.\n",
    "\n",
    "ldh_j1 à j5 : Lactate déshydrogénase (enzyme liée aux dommages tissulaires) sur 5 jours.\n",
    "\n",
    "L_pourc_J1 à J5 : Pourcentage de lymphocytes (marqueur immunitaire) sur 5 jours.\n",
    "\n",
    "Autres variables :\n",
    "\n",
    "male : Genre (1 pour masculin, 0 pour féminin).\n",
    "\n",
    "ICU_LOS : Durée de séjour en soins intensifs.\n",
    "\n",
    "Death_D28, Death_D7 : Indicateurs de décès à 28 jours et 7 jours.\n",
    "\n",
    "Age : Âge du patient."
   ]
  },
  {
   "cell_type": "code",
   "execution_count": 27,
   "id": "07b17674",
   "metadata": {},
   "outputs": [
    {
     "name": "stdout",
     "output_type": "stream",
     "text": [
      "Requirement already satisfied: openpyxl in c:\\users\\lambika\\appdata\\local\\programs\\python\\python39\\lib\\site-packages (3.1.5)\n",
      "Requirement already satisfied: et-xmlfile in c:\\users\\lambika\\appdata\\local\\programs\\python\\python39\\lib\\site-packages (from openpyxl) (2.0.0)\n"
     ]
    },
    {
     "name": "stderr",
     "output_type": "stream",
     "text": [
      "\n",
      "[notice] A new release of pip is available: 25.1 -> 25.1.1\n",
      "[notice] To update, run: python.exe -m pip install --upgrade pip\n"
     ]
    }
   ],
   "source": [
    "!pip install openpyxl"
   ]
  },
  {
   "cell_type": "code",
   "execution_count": 28,
   "id": "7be5d57a",
   "metadata": {},
   "outputs": [],
   "source": [
    "import flask\n",
    "import tenseal as ts\n",
    "import utils"
   ]
  },
  {
   "cell_type": "code",
   "execution_count": 29,
   "id": "8bda1617",
   "metadata": {},
   "outputs": [],
   "source": [
    "import pandas as pd\n",
    "\n",
    "# Récuperrer les 3 premières colonnes du fichier Excel\n",
    "medical_data = pd.read_excel('medical_dataset_01.xlsx', usecols=[0, 1, 2])\n",
    "\n",
    "\n",
    "context = ts.context(ts.SCHEME_TYPE.BFV, poly_modulus_degree=8192, plain_modulus=1032193)\n",
    "context.generate_galois_keys()\n",
    "context.make_context_public()\n",
    "context.global_scale = 2**40\n",
    "enc_vector_id = ts.bfv_vector(context, medical_data['id'].tolist()) \n",
    "enc_vector_HR_min = ts.bfv_vector(context, medical_data['HR_min'].tolist())\n",
    "enc_vector_HR_max = ts.bfv_vector(context, medical_data['HR_max'].tolist())\n",
    "public_key=context.serialize()\n",
    "utils.write_data(\"Keys_test/public_key.txt\", public_key)\n",
    "my_secret_key=context.serialize(save_secret_key=True)\n",
    "utils.write_data(\"Keys_test/secret_key.txt\", my_secret_key)\n",
    "\n",
    "\n"
   ]
  }
 ],
 "metadata": {
  "kernelspec": {
   "display_name": "Python 3",
   "language": "python",
   "name": "python3"
  },
  "language_info": {
   "codemirror_mode": {
    "name": "ipython",
    "version": 3
   },
   "file_extension": ".py",
   "mimetype": "text/x-python",
   "name": "python",
   "nbconvert_exporter": "python",
   "pygments_lexer": "ipython3",
   "version": "3.9.7"
  }
 },
 "nbformat": 4,
 "nbformat_minor": 5
}
