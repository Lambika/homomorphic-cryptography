{
 "cells": [
  {
   "cell_type": "markdown",
   "id": "93cb7d47",
   "metadata": {},
   "source": [
    "L'idée : Mise en situation réelle , je dispose d'une base de données simple (fichier csv), je vais donc la crypter homomorphiquement et envoyer son cryptage au serveur afin de traiter la traiter et la manipuler , je peux à la fin choisir si je souhaite rècupèrer les modifications qui ont été fait par le serveur.\n"
   ]
  },
  {
   "cell_type": "markdown",
   "id": "0463fb45",
   "metadata": {},
   "source": [
    "Dataset content  : \n",
    "\n",
    "id : Identifiant unique du patient.\n",
    "\n",
    "HR_min, HR_max : Fréquence cardiaque minimale et maximale.\n",
    "\n",
    "SBP_min, SBP_max : Pression artérielle systolique minimale et maximale.\n",
    "\n",
    "DBP_min, DBP_max : Pression artérielle diastolique minimale et maximale.\n",
    "\n",
    "SAPSII : Score de gravité (Simplified Acute Physiology Score II).\n",
    "\n",
    "RR : Fréquence respiratoire.\n",
    "\n",
    "GCS : Score de Glasgow (évaluation de l'état de conscience).\n",
    "\n",
    "Dates : Dates d'admission à l'hôpital, en soins intensifs, de sortie ou de décès.\n",
    "\n",
    "Données biologiques :\n",
    "\n",
    "ddimere_J1 à J5 : D-dimères (marqueur de coagulation) sur 5 jours.\n",
    "\n",
    "crp_J1 à J5 : Protéine C-réactive (marqueur inflammatoire) sur 5 jours.\n",
    "\n",
    "ldh_j1 à j5 : Lactate déshydrogénase (enzyme liée aux dommages tissulaires) sur 5 jours.\n",
    "\n",
    "L_pourc_J1 à J5 : Pourcentage de lymphocytes (marqueur immunitaire) sur 5 jours.\n",
    "\n",
    "Autres variables :\n",
    "\n",
    "male : Genre (1 pour masculin, 0 pour féminin).\n",
    "\n",
    "ICU_LOS : Durée de séjour en soins intensifs.\n",
    "\n",
    "Death_D28, Death_D7 : Indicateurs de décès à 28 jours et 7 jours.\n",
    "\n",
    "Age : Âge du patient."
   ]
  },
  {
   "cell_type": "code",
   "execution_count": 102,
   "id": "07b17674",
   "metadata": {},
   "outputs": [
    {
     "name": "stdout",
     "output_type": "stream",
     "text": [
      "Requirement already satisfied: openpyxl in c:\\users\\lambika\\appdata\\local\\programs\\python\\python39\\lib\\site-packages (3.1.5)\n",
      "Requirement already satisfied: et-xmlfile in c:\\users\\lambika\\appdata\\local\\programs\\python\\python39\\lib\\site-packages (from openpyxl) (2.0.0)\n"
     ]
    },
    {
     "name": "stderr",
     "output_type": "stream",
     "text": [
      "\n",
      "[notice] A new release of pip is available: 25.1 -> 25.1.1\n",
      "[notice] To update, run: python.exe -m pip install --upgrade pip\n"
     ]
    }
   ],
   "source": [
    "!pip install openpyxl"
   ]
  },
  {
   "cell_type": "code",
   "execution_count": 114,
   "id": "7be5d57a",
   "metadata": {},
   "outputs": [],
   "source": [
    "from flask import Flask\n",
    "import tenseal as ts\n",
    "import utils"
   ]
  },
  {
   "cell_type": "code",
   "execution_count": 129,
   "id": "8bda1617",
   "metadata": {},
   "outputs": [],
   "source": [
    "import pandas as pd\n",
    "\n",
    "# Récuperrer les 3 premières colonnes du fichier Excel\n",
    "medical_data = pd.read_excel('medical_dataset_01.xlsx', usecols=[0, 1, 2])\n",
    "\n",
    "\n",
    "context = ts.context(ts.SCHEME_TYPE.BFV, poly_modulus_degree=8192, plain_modulus=1032193)\n",
    "context.generate_galois_keys()\n",
    "context.global_scale = 2**40\n",
    "enc_vector_id = ts.bfv_vector(context, medical_data['id'].tolist()) \n",
    "enc_vector_HR_min = ts.bfv_vector(context, medical_data['HR_min'].tolist())\n",
    "enc_vector_HR_max = ts.bfv_vector(context, medical_data['HR_max'].tolist())\n",
    "\n",
    "my_secret_key=context.serialize(save_secret_key=True)\n",
    "utils.write_data(\"Keys_client/secret_key.txt\", my_secret_key)\n",
    "\n",
    "context.make_context_public()\n",
    "public_key=context.serialize()\n",
    "utils.write_data(\"Keys_client/public_key.txt\", public_key)\n",
    "\n",
    "\n",
    "utils.write_data(\"outputs_client/enc_vector_id.txt\", enc_vector_id.serialize())\n",
    "utils.write_data(\"outputs_client/enc_vector_HR_min.txt\", enc_vector_HR_min.serialize())\n",
    "utils.write_data(\"outputs_client/enc_vector_HR_max.txt\", enc_vector_HR_max.serialize())\n",
    "\n"
   ]
  },
  {
   "cell_type": "code",
   "execution_count": 131,
   "id": "190e23ca",
   "metadata": {},
   "outputs": [
    {
     "name": "stdout",
     "output_type": "stream",
     "text": [
      " * Serving Flask app '__main__'\n",
      " * Debug mode: off\n"
     ]
    },
    {
     "name": "stderr",
     "output_type": "stream",
     "text": [
      "WARNING: This is a development server. Do not use it in a production deployment. Use a production WSGI server instead.\n",
      " * Running on all addresses (0.0.0.0)\n",
      " * Running on http://127.0.0.1:5000\n",
      " * Running on http://10.11.1.153:5000\n",
      "Press CTRL+C to quit\n"
     ]
    }
   ],
   "source": [
    "from flask import Flask, send_from_directory, render_template, request, redirect, url_for\n",
    "import os\n",
    "from werkzeug.utils import secure_filename\n",
    "\n",
    "app = Flask(__name__)\n",
    "\n",
    "# Configuration pour l'upload\n",
    "UPLOAD_FOLDER = 'uploads'\n",
    "ALLOWED_EXTENSIONS = {'txt', 'pdf', 'png', 'jpg', 'jpeg', 'gif', 'enc'}\n",
    "app.config['UPLOAD_FOLDER'] = UPLOAD_FOLDER\n",
    "\n",
    "# Créer le dossier d'upload s'il n'existe pas\n",
    "os.makedirs(UPLOAD_FOLDER, exist_ok=True)\n",
    "\n",
    "def allowed_file(filename):\n",
    "    return '.' in filename and \\\n",
    "           filename.rsplit('.', 1)[1].lower() in ALLOWED_EXTENSIONS\n",
    "\n",
    "@app.route(\"/\")\n",
    "def bonjour():\n",
    "    return render_template(\"index.html\")\n",
    "\n",
    "@app.route(\"/download/<filename>\")\n",
    "def download_file(filename):\n",
    "    if filename == \"public_key.txt\":\n",
    "        directory = os.path.join(os.getcwd(), \"Keys_client\")\n",
    "    else:\n",
    "        directory = os.path.join(os.getcwd(), \"outputs_client\")\n",
    "\n",
    "    try:\n",
    "        return send_from_directory(directory, filename, as_attachment=True)\n",
    "    except FileNotFoundError:\n",
    "        return \"Fichier non trouvé.\", 404\n",
    "\n",
    "@app.route('/upload', methods=['POST'])\n",
    "def upload_file():\n",
    "    if 'file' not in request.files:\n",
    "        return redirect(request.url)\n",
    "    \n",
    "    files = request.files.getlist('file')\n",
    "    \n",
    "    for file in files:\n",
    "        if file.filename == '':\n",
    "            continue\n",
    "            \n",
    "        if file and allowed_file(file.filename):\n",
    "            filename = secure_filename(file.filename)\n",
    "            file.save(os.path.join(app.config['UPLOAD_FOLDER'], filename))\n",
    "    \n",
    "    return redirect(url_for('bonjour'))\n",
    "\n",
    "if __name__ == \"__main__\":\n",
    "    app.run(host=\"0.0.0.0\")\n",
    "# mettre \"outputs_client/enc_vector_HR_max.txt\" ,  \"outputs_client/enc_vector_HR_min.txt\",\"outputs_client/enc_vector_id.txt\" , et \"Keys_test/public_key.txt\" à télécharger depuis le localhost\n",
    "   \n",
    "#Conection to the server\n",
    "#le client envoie les données qu'il veut , chiffrées , les définit et envoie aussi la clé publique\n",
    "#Le serveur télécharge les données et la clé publique\n",
    "#choisit de les manipuler \n",
    "# Moyenne (si addition homomorphique supportée)\n",
    "\n",
    "#Somme de patients ayant une caractéristique donnée\n",
    "\n",
    "#Fréquences d’apparition d’une pathologie\n",
    "\n",
    "#Calculs de taux (ex. taux de réussite d’un traitement)\n",
    "\n",
    "#Médiane ou quantiles (avec méthodes adaptées\n",
    "#    \n",
    "    \n",
    "    \n",
    "    "
   ]
  },
  {
   "cell_type": "code",
   "execution_count": null,
   "id": "1146d552",
   "metadata": {},
   "outputs": [
    {
     "name": "stdout",
     "output_type": "stream",
     "text": [
      " HR_max après correction machine : [194.00000000005608, 204.99999999899407, 269.9999999993546, 223.99999999993568, 190.00000000050375, 195.9999999998051, 197.99999999922764, 196.00000000127088, 190.00000000032622, 195.00000000075514, 171.99999999784765, 160.99999999996703, 226.9999999989781, 193.0000000017307, 231.99999999902494, 195.99999999915946, 203.0000000009445, 234.99999999962148, 200.99999999922358, 199.00000000047052, 197.99999999999372, 203.99999999709308, 165.99999999916693, 191.99999999935213, 187.0000000005893, 206.9999999999047, 179.99999999957387, 190.99999999937742, 179.99999999987585, 172.9999999982074, 164.99999999996174, 168.0000000007043, 189.00000000029365, 193.0000000000527, 203.9999999993716, 202.99999999956773, 188.99999999959277, 193.00000000052174, 184.00000000011332, 214.99999999989564, 183.0000000005021, 179.99999999930031, 208.0000000000698, 195.0000000003456, 190.99999999910617, 208.00000000015496, 175.00000000013006, 204.99999999898205, 184.99999999976848, 223.0000000005414, 175.00000000068704, 211.0000000012341, 187.00000000075354, 192.99999999822725, 225.00000000028555, 174.00000000186517, 210.99999999991226, 213.99999999996257, 180.00000000172713, 188.0000000006899, 230.00000000102725, 219.00000000050224, 199.99999999914436, 203.00000000011067, 184.99999999934874, 197.99999999914243, 181.0000000001608, 176.00000000055473, 171.99999999880478, 214.99999999893961, 162.99999999858537, 201.9999999998723, 177.9999999988266, 202.00000000096162, 193.00000000151144, 204.99999999990658, 212.00000000071014, 215.00000000326017, 189.99999999942068, 196.99999999883963, 177.00000000200188, 177.0000000012454, 200.0000000018022, 208.00000000037107, 201.99999999996956, 205.00000000397577, 205.0000000001638, 194.99999999962452, 199.999999999748, 195.99999999931563, 260.00000000004644, 193.00000000166156, 221.00000000092723, 190.0000000004508, 218.0000000014989, 209.99999999885387, 174.00000000012164, 227.00000000021996, 162.00000000068502, 167.99999999956978, 184.0000000015231, 215.0000000004521, 176.99999999703545, 229.99999999940678, 199.00000000156564, 194.99999999814736, 170.0000000003674, 201.00000000039668, 228.99999999965135, 182.99999999906873, 203.00000000187725, 174.9999999998635, 167.00000000004394, 172.99999999980673, 161.0000000010508, 170.99999999986215, 164.00000000027754, 175.99999999989032, 188.0000000000461, 175.00000000022627, 173.0000000002751, 193.00000000218748, 194.00000000023132, 192.00000000220257, 200.00000000087002, 197.00000000095915, 210.00000000174305, 166.00000000014322, 232.99999999914814, 182.00000000136248, 205.9999999990025, 225.00000000299696, 155.9999999999849, 185.00000000012818, 184.9999999989108, 184.0000000004094, 163.000000000375, 215.99999999943293, 200.99999999925504, 219.00000000090276, 195.00000000002117, 238.00000000033796, 253.00000000015015, 243.99999999940377, 190.00000000036908, 183.00000000254607, 204.0000000003431, 190.99999999957703, 188.0000000010876, 194.00000000057864, 198.99999999783057, 195.00000000132943, 181.00000000111297, 192.99999999994196, 196.9999999965442, 202.9999999977373, 195.00000000025733, 166.99999999773857, 181.99999999959664, 196.9999999991013, 206.99999999797916, 204.00000000002856, 176.99999999940889, 184.99999999573504, 206.99999999458188, 165.0000000019094, 196.9999999996391, 183.99999999940567, 192.99999999881055, 160.00000000078902, 193.00000000142794, 220.0000000004594, 204.99999999994668, 203.99999999994787, 188.99999999989143, 177.0000000011549, 197.00000000026574, 276.0000000019086]\n"
     ]
    }
   ],
   "source": [
    "loaded_secret_key = utils.read_data(\"Keys_client/secret_key.txt\")\n",
    "secret_key = ts.context_from(loaded_secret_key).secret_key()\n",
    "\n",
    "HR_modified_bytes = utils.read_data(\"outputs_server/HR_max_computed.txt\")\n",
    "HR_modified_vec = ts.lazy_bfv_vector_from(HR_modified_bytes)\n",
    "HR_modified_vec.link_context(context)\n",
    "# --- Déchiffrement du vecteur corrigé ---\n",
    "HR_modified = HR_modified_vec.decrypt(secret_key)\n",
    "print(\" HR_max après correction machine :\", HR_modified)"
   ]
  }
 ],
 "metadata": {
  "kernelspec": {
   "display_name": "Python 3",
   "language": "python",
   "name": "python3"
  },
  "language_info": {
   "codemirror_mode": {
    "name": "ipython",
    "version": 3
   },
   "file_extension": ".py",
   "mimetype": "text/x-python",
   "name": "python",
   "nbconvert_exporter": "python",
   "pygments_lexer": "ipython3",
   "version": "3.9.7"
  }
 },
 "nbformat": 4,
 "nbformat_minor": 5
}
