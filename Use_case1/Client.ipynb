{
 "cells": [
  {
   "cell_type": "markdown",
   "id": "93cb7d47",
   "metadata": {},
   "source": [
    "L'idée : Mise en situation réelle , je dispose d'une base de données simple (fichier csv), je vais donc la crypter homomorphiquement et envoyer son cryptage au serveur afin de traiter la traiter et la manipuler , je peux à la fin choisir si je souhaite rècupèrer les modifications qui ont été fait par le serveur.\n"
   ]
  },
  {
   "cell_type": "markdown",
   "id": "0463fb45",
   "metadata": {},
   "source": [
    "Dataset content  : \n",
    "\n",
    "id : Identifiant unique du patient.\n",
    "\n",
    "HR_min, HR_max : Fréquence cardiaque minimale et maximale.\n",
    "\n",
    "SBP_min, SBP_max : Pression artérielle systolique minimale et maximale.\n",
    "\n",
    "DBP_min, DBP_max : Pression artérielle diastolique minimale et maximale.\n",
    "\n",
    "SAPSII : Score de gravité (Simplified Acute Physiology Score II).\n",
    "\n",
    "RR : Fréquence respiratoire.\n",
    "\n",
    "GCS : Score de Glasgow (évaluation de l'état de conscience).\n",
    "\n",
    "Dates : Dates d'admission à l'hôpital, en soins intensifs, de sortie ou de décès.\n",
    "\n",
    "Données biologiques :\n",
    "\n",
    "ddimere_J1 à J5 : D-dimères (marqueur de coagulation) sur 5 jours.\n",
    "\n",
    "crp_J1 à J5 : Protéine C-réactive (marqueur inflammatoire) sur 5 jours.\n",
    "\n",
    "ldh_j1 à j5 : Lactate déshydrogénase (enzyme liée aux dommages tissulaires) sur 5 jours.\n",
    "\n",
    "L_pourc_J1 à J5 : Pourcentage de lymphocytes (marqueur immunitaire) sur 5 jours.\n",
    "\n",
    "Autres variables :\n",
    "\n",
    "male : Genre (1 pour masculin, 0 pour féminin).\n",
    "\n",
    "ICU_LOS : Durée de séjour en soins intensifs.\n",
    "\n",
    "Death_D28, Death_D7 : Indicateurs de décès à 28 jours et 7 jours.\n",
    "\n",
    "Age : Âge du patient."
   ]
  },
  {
   "cell_type": "code",
   "execution_count": 1,
   "id": "07b17674",
   "metadata": {},
   "outputs": [
    {
     "name": "stdout",
     "output_type": "stream",
     "text": [
      "Requirement already satisfied: openpyxl in c:\\users\\lambika\\appdata\\local\\programs\\python\\python39\\lib\\site-packages (3.1.5)\n",
      "Requirement already satisfied: et-xmlfile in c:\\users\\lambika\\appdata\\local\\programs\\python\\python39\\lib\\site-packages (from openpyxl) (2.0.0)\n"
     ]
    },
    {
     "name": "stderr",
     "output_type": "stream",
     "text": [
      "\n",
      "[notice] A new release of pip is available: 25.1 -> 25.1.1\n",
      "[notice] To update, run: python.exe -m pip install --upgrade pip\n"
     ]
    }
   ],
   "source": [
    "!pip install openpyxl"
   ]
  },
  {
   "cell_type": "code",
   "execution_count": 2,
   "id": "7be5d57a",
   "metadata": {},
   "outputs": [],
   "source": [
    "from flask import Flask\n",
    "import tenseal as ts\n",
    "import utils"
   ]
  },
  {
   "cell_type": "code",
   "execution_count": 3,
   "id": "8bda1617",
   "metadata": {},
   "outputs": [],
   "source": [
    "import pandas as pd\n",
    "\n",
    "# Récuperrer les 3 premières colonnes du fichier Excel\n",
    "medical_data = pd.read_excel('medical_dataset_01.xlsx', usecols=[0, 1, 2])\n",
    "\n",
    "\n",
    "context = ts.context(ts.SCHEME_TYPE.BFV, poly_modulus_degree=8192, plain_modulus=1032193)\n",
    "context.generate_galois_keys()\n",
    "context.global_scale = 2**40\n",
    "enc_vector_id = ts.bfv_vector(context, medical_data['id'].tolist()) \n",
    "enc_vector_HR_min = ts.bfv_vector(context, medical_data['HR_min'].tolist())\n",
    "enc_vector_HR_max = ts.bfv_vector(context, medical_data['HR_max'].tolist())\n",
    "\n",
    "my_secret_key=context.serialize(save_secret_key=True)\n",
    "utils.write_data(\"Keys_client/secret_key.txt\", my_secret_key)\n",
    "\n",
    "context.make_context_public()\n",
    "public_key=context.serialize()\n",
    "utils.write_data(\"Keys_client/public_key.txt\", public_key)\n",
    "\n",
    "\n",
    "utils.write_data(\"outputs_client/enc_vector_id.txt\", enc_vector_id.serialize())\n",
    "utils.write_data(\"outputs_client/enc_vector_HR_min.txt\", enc_vector_HR_min.serialize())\n",
    "utils.write_data(\"outputs_client/enc_vector_HR_max.txt\", enc_vector_HR_max.serialize())\n",
    "\n"
   ]
  },
  {
   "cell_type": "code",
   "execution_count": 4,
   "id": "190e23ca",
   "metadata": {},
   "outputs": [
    {
     "name": "stdout",
     "output_type": "stream",
     "text": [
      " * Serving Flask app '__main__'\n",
      " * Debug mode: off\n"
     ]
    },
    {
     "name": "stderr",
     "output_type": "stream",
     "text": [
      "WARNING: This is a development server. Do not use it in a production deployment. Use a production WSGI server instead.\n",
      " * Running on all addresses (0.0.0.0)\n",
      " * Running on http://127.0.0.1:5000\n",
      " * Running on http://10.11.1.153:5000\n",
      "Press CTRL+C to quit\n",
      "127.0.0.1 - - [19/May/2025 10:17:46] \"GET / HTTP/1.1\" 200 -\n",
      "127.0.0.1 - - [19/May/2025 10:17:48] \"GET / HTTP/1.1\" 200 -\n",
      "127.0.0.1 - - [19/May/2025 10:17:50] \"GET /download/public_key.txt HTTP/1.1\" 200 -\n",
      "127.0.0.1 - - [19/May/2025 10:17:52] \"GET /download/enc_vector_HR_max.txt HTTP/1.1\" 200 -\n",
      "127.0.0.1 - - [19/May/2025 10:17:58] \"POST /upload HTTP/1.1\" 302 -\n",
      "127.0.0.1 - - [19/May/2025 10:17:58] \"GET / HTTP/1.1\" 200 -\n"
     ]
    }
   ],
   "source": [
    "from flask import Flask, send_from_directory, render_template, request, redirect, url_for\n",
    "import os\n",
    "from werkzeug.utils import secure_filename\n",
    "\n",
    "app = Flask(__name__)\n",
    "\n",
    "# Configuration pour l'upload\n",
    "UPLOAD_FOLDER = 'uploads'\n",
    "ALLOWED_EXTENSIONS = {'txt', 'pdf', 'png', 'jpg', 'jpeg', 'gif', 'enc'}\n",
    "app.config['UPLOAD_FOLDER'] = UPLOAD_FOLDER\n",
    "\n",
    "# Créer le dossier d'upload s'il n'existe pas\n",
    "os.makedirs(UPLOAD_FOLDER, exist_ok=True)\n",
    "\n",
    "def allowed_file(filename):\n",
    "    return '.' in filename and \\\n",
    "           filename.rsplit('.', 1)[1].lower() in ALLOWED_EXTENSIONS\n",
    "\n",
    "@app.route(\"/\")\n",
    "def bonjour():\n",
    "    return render_template(\"index.html\")\n",
    "\n",
    "@app.route(\"/download/<filename>\")\n",
    "def download_file(filename):\n",
    "    if filename == \"public_key.txt\":\n",
    "        directory = os.path.join(os.getcwd(), \"Keys_client\")\n",
    "    else:\n",
    "        directory = os.path.join(os.getcwd(), \"outputs_client\")\n",
    "\n",
    "    try:\n",
    "        return send_from_directory(directory, filename, as_attachment=True)\n",
    "    except FileNotFoundError:\n",
    "        return \"Fichier non trouvé.\", 404\n",
    "\n",
    "@app.route('/upload', methods=['POST'])\n",
    "def upload_file():\n",
    "    if 'file' not in request.files:\n",
    "        return redirect(request.url)\n",
    "    \n",
    "    files = request.files.getlist('file')\n",
    "    \n",
    "    for file in files:\n",
    "        if file.filename == '':\n",
    "            continue\n",
    "            \n",
    "        if file and allowed_file(file.filename):\n",
    "            filename = secure_filename(file.filename)\n",
    "            file.save(os.path.join(app.config['UPLOAD_FOLDER'], filename))\n",
    "    \n",
    "    return redirect(url_for('bonjour'))\n",
    "\n",
    "if __name__ == \"__main__\":\n",
    "    app.run(host=\"0.0.0.0\")\n",
    "# mettre \"outputs_client/enc_vector_HR_max.txt\" ,  \"outputs_client/enc_vector_HR_min.txt\",\"outputs_client/enc_vector_id.txt\" , et \"Keys_test/public_key.txt\" à télécharger depuis le localhost\n",
    "   \n",
    "#Conection to the server\n",
    "#le client envoie les données qu'il veut , chiffrées , les définit et envoie aussi la clé publique\n",
    "#Le serveur télécharge les données et la clé publique\n",
    "#choisit de les manipuler \n",
    "# Moyenne (si addition homomorphique supportée)\n",
    "\n",
    "#Somme de patients ayant une caractéristique donnée\n",
    "\n",
    "#Fréquences d’apparition d’une pathologie\n",
    "\n",
    "#Calculs de taux (ex. taux de réussite d’un traitement)\n",
    "\n",
    "#Médiane ou quantiles (avec méthodes adaptées\n",
    "#    \n",
    "    \n",
    "    \n",
    "    "
   ]
  },
  {
   "cell_type": "code",
   "execution_count": 8,
   "id": "1146d552",
   "metadata": {},
   "outputs": [
    {
     "name": "stdout",
     "output_type": "stream",
     "text": [
      " HR_max après correction machine : [100094, 100105, 100170, 100124, 100090, 100096, 100098, 100096, 100090, 100095, 100072, 100061, 100127, 100093, 100132, 100096, 100103, 100135, 100101, 100099, 100098, 100104, 100066, 100092, 100087, 100107, 100080, 100091, 100080, 100073, 100065, 100068, 100089, 100093, 100104, 100103, 100089, 100093, 100084, 100115, 100083, 100080, 100108, 100095, 100091, 100108, 100075, 100105, 100085, 100123, 100075, 100111, 100087, 100093, 100125, 100074, 100111, 100114, 100080, 100088, 100130, 100119, 100100, 100103, 100085, 100098, 100081, 100076, 100072, 100115, 100063, 100102, 100078, 100102, 100093, 100105, 100112, 100115, 100090, 100097, 100077, 100077, 100100, 100108, 100102, 100105, 100105, 100095, 100100, 100096, 100160, 100093, 100121, 100090, 100118, 100110, 100074, 100127, 100062, 100068, 100084, 100115, 100077, 100130, 100099, 100095, 100070, 100101, 100129, 100083, 100103, 100075, 100067, 100073, 100061, 100071, 100064, 100076, 100088, 100075, 100073, 100093, 100094, 100092, 100100, 100097, 100110, 100066, 100133, 100082, 100106, 100125, 100056, 100085, 100085, 100084, 100063, 100116, 100101, 100119, 100095, 100138, 100153, 100144, 100090, 100083, 100104, 100091, 100088, 100094, 100099, 100095, 100081, 100093, 100097, 100103, 100095, 100067, 100082, 100097, 100107, 100104, 100077, 100085, 100107, 100065, 100097, 100084, 100093, 100060, 100093, 100120, 100105, 100104, 100089, 100077, 100097, 100176]\n"
     ]
    }
   ],
   "source": [
    "loaded_secret_key = utils.read_data(\"Keys_client/secret_key.txt\")\n",
    "secret_key = ts.context_from(loaded_secret_key).secret_key()\n",
    "\n",
    "HR_modified_bytes = utils.read_data(\"outputs_server/HR_max_computed.txt\")\n",
    "HR_modified_vec = ts.lazy_bfv_vector_from(HR_modified_bytes)\n",
    "HR_modified_vec.link_context(context)\n",
    "# --- Déchiffrement du vecteur corrigé ---\n",
    "HR_modified = HR_modified_vec.decrypt(secret_key)\n",
    "print(\" HR_max après correction machine :\", HR_modified)"
   ]
  }
 ],
 "metadata": {
  "kernelspec": {
   "display_name": "Python 3",
   "language": "python",
   "name": "python3"
  },
  "language_info": {
   "codemirror_mode": {
    "name": "ipython",
    "version": 3
   },
   "file_extension": ".py",
   "mimetype": "text/x-python",
   "name": "python",
   "nbconvert_exporter": "python",
   "pygments_lexer": "ipython3",
   "version": "3.9.7"
  }
 },
 "nbformat": 4,
 "nbformat_minor": 5
}
