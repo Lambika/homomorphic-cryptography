{
 "cells": [
  {
   "cell_type": "code",
   "execution_count": 1,
   "id": "75c398b6",
   "metadata": {},
   "outputs": [],
   "source": [
    "import tenseal as ts\n",
    "import utils"
   ]
  },
  {
   "cell_type": "code",
   "execution_count": 6,
   "id": "244e8103",
   "metadata": {},
   "outputs": [],
   "source": [
    "import os\n",
    "from pathlib import Path\n",
    "#Pour  utiliser la clée publique , sans savoir le nom du fichier qui la contient.\n",
    "# Chemin vers le répertoire contenant la clé publique\n",
    "keys_dir = \"Keys_server\"\n",
    "\n",
    "# Vérifier que le répertoire existe et contient exactement un fichier\n",
    "if os.path.exists(keys_dir) and os.path.isdir(keys_dir):\n",
    "    files = list(Path(keys_dir).glob('*'))\n",
    "    \n",
    "    if len(files) == 1:\n",
    "        # Prendre le premier (et seul) fichier trouvé\n",
    "        public_key_path = str(files[0])\n",
    "        context = ts.context_from(utils.read_data(public_key_path))\n",
    "    else:\n",
    "        raise FileNotFoundError(f\"Le répertoire {keys_dir} doit contenir exactement un fichier (contient {len(files)} fichiers)\")\n",
    "else:\n",
    "    raise FileNotFoundError(f\"Le répertoire {keys_dir} n'existe pas ou n'est pas un répertoire\")\n"
   ]
  },
  {
   "cell_type": "markdown",
   "id": "87d3aae5",
   "metadata": {},
   "source": [
    "# Compute received encrypted data"
   ]
  },
  {
   "cell_type": "code",
   "execution_count": 7,
   "id": "484ccd17",
   "metadata": {},
   "outputs": [],
   "source": [
    "\n",
    "#Lire les données\n",
    "Parametre_a_manipuler_1=\"Data_received/enc_vector_HR_max.txt\"\n",
    "HR_max_temp=utils.read_data(Parametre_a_manipuler_1)\n",
    "# Parametre_a_manipuler_2=\"Data_received/enc_vector_HR_min.txt\"\n",
    "# HR_min_temp=utils.read_data(Parametre_a_manipuler_2)\n",
    "# Parametre_a_manipuler_3=\"Data_received/enc_vector_id.txt\"\n",
    "# id_temp=utils.read_data(Parametre_a_manipuler_3)"
   ]
  },
  {
   "cell_type": "code",
   "execution_count": 8,
   "id": "170ea78f",
   "metadata": {},
   "outputs": [],
   "source": [
    "Constante=1000\n",
    "# gender\n",
    "# #1\n",
    "HR_max = ts.bfv_vector_from(context, HR_max_temp)\n",
    "HR_max = HR_max +Constante\n",
    "\n",
    "# #2\n",
    "# HR_min=ts.bfv_vector_from(context, HR_min_temp)\n",
    "# HR_min = HR_min -Constante\n",
    "\n",
    "# #3\n",
    "\n",
    "\n",
    "\n",
    "utils.write_data(\"outputs_server/HR_max_computed.txt\", HR_max.serialize())\n",
    "\n",
    "\n",
    "\n"
   ]
  }
 ],
 "metadata": {
  "kernelspec": {
   "display_name": "Python 3",
   "language": "python",
   "name": "python3"
  },
  "language_info": {
   "codemirror_mode": {
    "name": "ipython",
    "version": 3
   },
   "file_extension": ".py",
   "mimetype": "text/x-python",
   "name": "python",
   "nbconvert_exporter": "python",
   "pygments_lexer": "ipython3",
   "version": "3.9.7"
  }
 },
 "nbformat": 4,
 "nbformat_minor": 5
}
