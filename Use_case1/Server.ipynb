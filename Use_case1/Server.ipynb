{
 "cells": [
  {
   "cell_type": "code",
   "execution_count": 1,
   "id": "75c398b6",
   "metadata": {},
   "outputs": [],
   "source": [
    "import tenseal as ts\n",
    "import utils"
   ]
  },
  {
   "cell_type": "code",
   "execution_count": 12,
   "id": "244e8103",
   "metadata": {},
   "outputs": [],
   "source": [
    "import os\n",
    "from pathlib import Path\n",
    "#Pour  utiliser la clée publique , sans savoir le nom du fichier qui la contient.\n",
    "# Chemin vers le répertoire contenant la clé publique\n",
    "keys_dir = \"Keys_server\"\n",
    "\n",
    "# Vérifier que le répertoire existe et contient exactement un fichier\n",
    "if os.path.exists(keys_dir) and os.path.isdir(keys_dir):\n",
    "    files = list(Path(keys_dir).glob('*'))\n",
    "    \n",
    "    if len(files) == 1:\n",
    "        # Prendre le premier (et seul) fichier trouvé\n",
    "        public_key_path = str(files[0])\n",
    "        context = ts.context_from(utils.read_data(public_key_path))\n",
    "    else:\n",
    "        raise FileNotFoundError(f\"Le répertoire {keys_dir} doit contenir exactement un fichier (contient {len(files)} fichiers)\")\n",
    "else:\n",
    "    raise FileNotFoundError(f\"Le répertoire {keys_dir} n'existe pas ou n'est pas un répertoire\")\n"
   ]
  },
  {
   "cell_type": "markdown",
   "id": "87d3aae5",
   "metadata": {},
   "source": [
    "# Compute received encrypted data"
   ]
  },
  {
   "cell_type": "code",
   "execution_count": 13,
   "id": "484ccd17",
   "metadata": {},
   "outputs": [],
   "source": [
    "\n",
    "#Lire les données\n",
    "Parametre_a_manipuler=\"Data_received/enc_vector_HR_max.txt\"\n",
    "HR_max_temp=utils.read_data(Parametre_a_manipuler)"
   ]
  },
  {
   "cell_type": "code",
   "execution_count": 15,
   "id": "170ea78f",
   "metadata": {},
   "outputs": [],
   "source": [
    "\n",
    "HR_max = ts.bfv_vector_from(context, HR_max_temp)\n",
    "# HR_max.link_context(context)\n",
    "HR_max = HR_max + 100  # Add the list to the encrypted vector\n",
    "\n",
    "utils.write_data(\"outputs_server/HR_max_computed.txt\", HR_max.serialize())\n",
    "\n"
   ]
  }
 ],
 "metadata": {
  "kernelspec": {
   "display_name": "Python 3",
   "language": "python",
   "name": "python3"
  },
  "language_info": {
   "codemirror_mode": {
    "name": "ipython",
    "version": 3
   },
   "file_extension": ".py",
   "mimetype": "text/x-python",
   "name": "python",
   "nbconvert_exporter": "python",
   "pygments_lexer": "ipython3",
   "version": "3.9.7"
  }
 },
 "nbformat": 4,
 "nbformat_minor": 5
}
