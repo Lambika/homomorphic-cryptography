{
 "cells": [
  {
   "cell_type": "code",
   "execution_count": 92,
   "id": "75c398b6",
   "metadata": {},
   "outputs": [],
   "source": [
    "import tenseal as ts\n",
    "import utils"
   ]
  },
  {
   "cell_type": "code",
   "execution_count": 93,
   "id": "244e8103",
   "metadata": {},
   "outputs": [],
   "source": [
    "import os\n",
    "from pathlib import Path\n",
    "#Pour  utiliser la clée publique , sans savoir le nom du fichier qui la contient.\n",
    "# Chemin vers le répertoire contenant la clé publique\n",
    "keys_dir = \"Keys_server\"\n",
    "\n",
    "# Vérifier que le répertoire existe et contient exactement un fichier\n",
    "if os.path.exists(keys_dir) and os.path.isdir(keys_dir):\n",
    "    files = list(Path(keys_dir).glob('*'))\n",
    "    \n",
    "    if len(files) == 1:\n",
    "        # Prendre le premier (et seul) fichier trouvé\n",
    "        public_key_path = str(files[0])\n",
    "        context = ts.context_from(utils.read_data(public_key_path))\n",
    "    else:\n",
    "        raise FileNotFoundError(f\"Le répertoire {keys_dir} doit contenir exactement un fichier (contient {len(files)} fichiers)\")\n",
    "else:\n",
    "    raise FileNotFoundError(f\"Le répertoire {keys_dir} n'existe pas ou n'est pas un répertoire\")\n"
   ]
  },
  {
   "cell_type": "markdown",
   "id": "87d3aae5",
   "metadata": {},
   "source": [
    "# Compute received encrypted data"
   ]
  },
  {
   "cell_type": "code",
   "execution_count": 94,
   "id": "484ccd17",
   "metadata": {},
   "outputs": [],
   "source": [
    "\n",
    "#Lire les données\n",
    "Parametre_a_manipuler=\"Data_received/enc_vector_HR_max.txt\"\n",
    "HR_max_temp=utils.read_data(Parametre_a_manipuler)"
   ]
  },
  {
   "cell_type": "code",
   "execution_count": null,
   "id": "170ea78f",
   "metadata": {},
   "outputs": [
    {
     "ename": "AttributeError",
     "evalue": "'Context' object has no attribute 'scheme'",
     "output_type": "error",
     "traceback": [
      "\u001b[1;31m---------------------------------------------------------------------------\u001b[0m",
      "\u001b[1;31mAttributeError\u001b[0m                            Traceback (most recent call last)",
      "Cell \u001b[1;32mIn[97], line 2\u001b[0m\n\u001b[0;32m      1\u001b[0m \u001b[38;5;66;03m# Ensure the context is of the correct scheme (BFV)\u001b[39;00m\n\u001b[1;32m----> 2\u001b[0m \u001b[38;5;28;01mif\u001b[39;00m \u001b[43mcontext\u001b[49m\u001b[38;5;241;43m.\u001b[39;49m\u001b[43mscheme\u001b[49m \u001b[38;5;241m!=\u001b[39m ts\u001b[38;5;241m.\u001b[39mSCHEME_TYPE\u001b[38;5;241m.\u001b[39mBFV:\n\u001b[0;32m      3\u001b[0m \t\u001b[38;5;28;01mraise\u001b[39;00m \u001b[38;5;167;01mValueError\u001b[39;00m(\u001b[38;5;124mf\u001b[39m\u001b[38;5;124m\"\u001b[39m\u001b[38;5;124mContext scheme is \u001b[39m\u001b[38;5;132;01m{\u001b[39;00mcontext\u001b[38;5;241m.\u001b[39mscheme\u001b[38;5;132;01m}\u001b[39;00m\u001b[38;5;124m, but BFV is required.\u001b[39m\u001b[38;5;124m\"\u001b[39m)\n\u001b[0;32m      5\u001b[0m HR_max \u001b[38;5;241m=\u001b[39m ts\u001b[38;5;241m.\u001b[39mlazy_bfv_vector_from(HR_max_temp)\n",
      "\u001b[1;31mAttributeError\u001b[0m: 'Context' object has no attribute 'scheme'"
     ]
    }
   ],
   "source": [
    "\n",
    "HR_max = ts.lazy_bfv_vector_from(HR_max_temp)\n",
    "HR_max.link_context(context)\n",
    "HR_max = HR_max +100  # Add the list to the encrypted vector\n",
    "\n",
    "utils.write_data(\"outputs_server/HR_max_computed.txt\", HR_max.serialize())\n",
    "\n"
   ]
  }
 ],
 "metadata": {
  "kernelspec": {
   "display_name": "Python 3",
   "language": "python",
   "name": "python3"
  },
  "language_info": {
   "codemirror_mode": {
    "name": "ipython",
    "version": 3
   },
   "file_extension": ".py",
   "mimetype": "text/x-python",
   "name": "python",
   "nbconvert_exporter": "python",
   "pygments_lexer": "ipython3",
   "version": "3.9.7"
  }
 },
 "nbformat": 4,
 "nbformat_minor": 5
}
