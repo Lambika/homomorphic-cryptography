{
 "cells": [
  {
   "cell_type": "code",
   "execution_count": 13,
   "id": "75c398b6",
   "metadata": {},
   "outputs": [],
   "source": [
    "\n",
    "import tenseal as ts\n",
    "import utils\n",
    "import os\n",
    "from pathlib import Path\n",
    "\n",
    "# Charger le contexte public uniquement\n",
    "keys_dir = \"Keys_server\"\n",
    "if os.path.exists(keys_dir) and os.path.isdir(keys_dir):\n",
    "    files = list(Path(keys_dir).glob('*'))\n",
    "    if len(files) == 1:\n",
    "        public_key_path = str(files[0])\n",
    "        context = ts.context_from(utils.read_data(public_key_path))\n",
    "    else:\n",
    "        raise FileNotFoundError(f\"Le répertoire {keys_dir} doit contenir exactement un fichier (contient {len(files)} fichiers)\")\n",
    "else:\n",
    "    raise FileNotFoundError(f\"Le répertoire {keys_dir} n'existe pas ou n'est pas un répertoire\")\n",
    "\n",
    "\n",
    "\n",
    "\n",
    "\n"
   ]
  },
  {
   "cell_type": "markdown",
   "id": "87d3aae5",
   "metadata": {},
   "source": [
    "# Compute received encrypted data"
   ]
  },
  {
   "cell_type": "code",
   "execution_count": null,
   "id": "484ccd17",
   "metadata": {},
   "outputs": [],
   "source": [
    "\n",
    "Parametre_a_manipuler=\"Data_received/enc_vector_HR_max.txt\"\n",
    "HR_max_temp=utils.read_data(Parametre_a_manipuler)"
   ]
  },
  {
   "cell_type": "code",
   "execution_count": null,
   "id": "170ea78f",
   "metadata": {},
   "outputs": [],
   "source": [
    "\n",
    "HR_max = ts.bfv_vector_from(context, HR_max_temp)\n",
    "HR_max = HR_max + 100000  \n",
    "\n",
    "utils.write_data(\"outputs_server/HR_max_computed.txt\", HR_max.serialize())\n",
    "\n"
   ]
  }
 ],
 "metadata": {
  "kernelspec": {
   "display_name": "Python 3",
   "language": "python",
   "name": "python3"
  },
  "language_info": {
   "codemirror_mode": {
    "name": "ipython",
    "version": 3
   },
   "file_extension": ".py",
   "mimetype": "text/x-python",
   "name": "python",
   "nbconvert_exporter": "python",
   "pygments_lexer": "ipython3",
   "version": "3.9.7"
  }
 },
 "nbformat": 4,
 "nbformat_minor": 5
}
