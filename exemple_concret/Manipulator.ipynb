{
 "cells": [
  {
   "cell_type": "code",
   "execution_count": 12,
   "id": "f29f3f40",
   "metadata": {},
   "outputs": [],
   "source": [
    "import tenseal as ts\n",
    "import utils"
   ]
  },
  {
   "cell_type": "code",
   "execution_count": 14,
   "id": "510dca9c",
   "metadata": {},
   "outputs": [],
   "source": [
    "#Pour la clée publique\n",
    "import os\n",
    "from pathlib import Path\n",
    "\n",
    "keys_dir = \"Keys_manipulator\"\n",
    "\n",
    "if os.path.exists(keys_dir) and os.path.isdir(keys_dir):\n",
    "    files = list(Path(keys_dir).glob('*'))\n",
    "    \n",
    "    if len(files) == 1:\n",
    "        \n",
    "        public_key_path = str(files[0])\n",
    "        context = ts.context_from(utils.read_data(public_key_path))\n",
    "    else:\n",
    "        raise FileNotFoundError(f\"Le répertoire {keys_dir} doit contenir exactement un fichier (contient {len(files)} fichiers)\")\n",
    "else:\n",
    "    raise FileNotFoundError(f\"Le répertoire {keys_dir} n'existe pas ou n'est pas un répertoire\")\n"
   ]
  },
  {
   "cell_type": "code",
   "execution_count": 21,
   "id": "81504c9d",
   "metadata": {},
   "outputs": [],
   "source": [
    "\n",
    "##   \n",
    "# Si FEVER>7 et loss_of_taste>7 et difficulty_breathing >7\n",
    "# On renvoie 1\n",
    "# Sinon on renvoie 0 , sachant qu'on a pas accès directement aux données\n",
    "\n",
    "#Détéction de fièrvre dépassant 8 , sigmoid\n",
    "# Approximation simple de seuil : f(x) = (x - 8) * k\n",
    "# Si x < 8 → f(x) < 0 → proche de 0\n",
    "# Si x > 8 → f(x) > 0 → proche de 1\n",
    "#sigmoid(x) = 0.5 + 0.197 * x - 0.004 * x^3\n",
    "#from https://eprint.iacr.org/2018/462.pdf\n",
    "fever_doc= \"Data_received/fever_encrypted.txt\"\n",
    "fever = utils.read_data(fever_doc)\n",
    "fever = ts.ckks_vector_from(context, fever)\n",
    "difficulty_breathing_doc =\"Data_received/difficulty_breathing_encrypted.txt\"\n",
    "difficulty_breathing=utils.read_data(difficulty_breathing_doc)\n",
    "difficulty_breathing = ts.ckks_vector_from(context, difficulty_breathing)\n",
    "loss_of_taste_doc = \"Data_received/loss_of_taste_encrypted.txt\"\n",
    "loss_of_taste = utils.read_data(loss_of_taste_doc)\n",
    "loss_of_taste = ts.ckks_vector_from(context, loss_of_taste)\n",
    "\n",
    "\n",
    "\n",
    "seuil = 7\n",
    "k = 0.4\n",
    "\n",
    "def sigmoid_approx_from_symptom(symptom_vector):\n",
    "    x = (symptom_vector - seuil) * k\n",
    "    x_cube = x * x * x\n",
    "    return x * 0.197 - x_cube * 0.004 + 0.5\n",
    "\n",
    "sigmoid_fever = sigmoid_approx_from_symptom(fever)\n",
    "sigmoid_loss_of_taste = sigmoid_approx_from_symptom(loss_of_taste)\n",
    "sigmoid_difficulty_breathing = sigmoid_approx_from_symptom(difficulty_breathing)\n",
    "\n",
    "\n",
    "combined_condition = sigmoid_fever * sigmoid_loss_of_taste * sigmoid_difficulty_breathing\n",
    "\n",
    "\n",
    "utils.write_data(\"outputs_manipulator/fever_sigmoided_manipulated_encrypted.txt\", combined_condition.serialize())\n",
    "\n"
   ]
  }
 ],
 "metadata": {
  "kernelspec": {
   "display_name": "Python 3",
   "language": "python",
   "name": "python3"
  },
  "language_info": {
   "codemirror_mode": {
    "name": "ipython",
    "version": 3
   },
   "file_extension": ".py",
   "mimetype": "text/x-python",
   "name": "python",
   "nbconvert_exporter": "python",
   "pygments_lexer": "ipython3",
   "version": "3.9.7"
  }
 },
 "nbformat": 4,
 "nbformat_minor": 5
}
