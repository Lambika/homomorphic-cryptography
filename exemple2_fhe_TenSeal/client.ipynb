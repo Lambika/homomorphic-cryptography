{
 "cells": [
  {
   "cell_type": "code",
   "execution_count": 44,
   "id": "6139203d",
   "metadata": {},
   "outputs": [],
   "source": [
    "import tenseal as ts\n",
    "import utils\n",
    "import pandas as pd"
   ]
  },
  {
   "cell_type": "code",
   "execution_count": 45,
   "id": "a6f4d599",
   "metadata": {},
   "outputs": [],
   "source": [
    "context = ts.context(\n",
    "    ts.SCHEME_TYPE.CKKS,\n",
    "    poly_modulus_degree=8192,\n",
    "    coeff_mod_bit_sizes=[60, 40, 40, 60]\n",
    ")\n",
    "context.global_scale = 2 ** 40\n",
    "context.generate_galois_keys()\n"
   ]
  },
  {
   "cell_type": "code",
   "execution_count": 46,
   "id": "507403d5",
   "metadata": {},
   "outputs": [],
   "source": [
    "secret_context = context.serialize(save_secret_key=True)\n",
    "utils.write_data(\"keys/secret_key.txt\", secret_context)"
   ]
  },
  {
   "cell_type": "code",
   "execution_count": 47,
   "id": "bf99cbbb",
   "metadata": {},
   "outputs": [],
   "source": [
    "context.make_context_public()\n",
    "public_context = context.serialize()\n",
    "utils.write_data(\"keys/public_key.txt\", public_context)"
   ]
  },
  {
   "cell_type": "markdown",
   "id": "e219b8b0",
   "metadata": {},
   "source": [
    "# Cryptage des données sensibles :"
   ]
  },
  {
   "cell_type": "code",
   "execution_count": 48,
   "id": "3ff1222c",
   "metadata": {},
   "outputs": [],
   "source": [
    "context=ts.context_from(utils.read_data(\"keys/secret_key.txt\"))\n",
    "data = pd.DataFrame({\n",
    "   \"Age\": [45, 34, 67, 52 , 29],\n",
    "    \"Pression\": [120, 135, 140, 110, 130],\n",
    "    \"Cardiaque\": [80, 76, 85, 90, 72],\n",
    "    \"Température\": [36.5, 37.0, 40.2, 38.7, 37.5]\n",
    "})"
   ]
  },
  {
   "cell_type": "code",
   "execution_count": 49,
   "id": "2dfb9fe3",
   "metadata": {},
   "outputs": [],
   "source": [
    "age_crypted = ts.ckks_vector(context, data.Age.tolist())\n",
    "pression_crypted = ts.ckks_vector(context, data.Pression.tolist())\n",
    "cardiaque_crypted = ts.ckks_vector(context, data.Cardiaque.tolist())\n",
    "temp_crypted = ts.ckks_vector(context, data.Température.tolist())\n",
    "age_crypted=ts.ckks_vector(context, data.Age.tolist())\n",
    "utils.write_data(\"outputs_client/age_crypted.txt\", age_crypted.serialize())\n",
    "utils.write_data(\"outputs_client/pression_crypted.txt\", pression_crypted.serialize())\n",
    "utils.write_data(\"outputs_client/cardiaque_crypted.txt\", cardiaque_crypted.serialize())\n",
    "utils.write_data(\"outputs_client/temp_crypted.txt\", temp_crypted.serialize())"
   ]
  },
  {
   "cell_type": "code",
   "execution_count": null,
   "id": "abd7f436",
   "metadata": {},
   "outputs": [
    {
     "name": "stdout",
     "output_type": "stream",
     "text": [
      "Âge moyen (approximatif) : 3.2005218977441313e+19\n"
     ]
    }
   ],
   "source": [
    "m_proto = utils.read_data(\"outputs_server/average_age_encrypted.txt\")\n",
    "m = ts.lazy_ckks_vector_from(m_proto)\n",
    "context=ts.context_from(utils.read_data(\"keys/secret_key.txt\"))\n",
    "\n",
    "m.link_context(context)\n",
    "m=round(m.decrypt()[0], 2)\n",
    "print(\"Âge moyen (approximatif) :\",m)\n"
   ]
  },
  {
   "cell_type": "markdown",
   "id": "11668470",
   "metadata": {},
   "source": [
    "# Decryptage "
   ]
  },
  {
   "cell_type": "code",
   "execution_count": null,
   "id": "4c67fa62",
   "metadata": {},
   "outputs": [],
   "source": []
  }
 ],
 "metadata": {
  "kernelspec": {
   "display_name": "Python 3",
   "language": "python",
   "name": "python3"
  },
  "language_info": {
   "codemirror_mode": {
    "name": "ipython",
    "version": 3
   },
   "file_extension": ".py",
   "mimetype": "text/x-python",
   "name": "python",
   "nbconvert_exporter": "python",
   "pygments_lexer": "ipython3",
   "version": "3.9.7"
  }
 },
 "nbformat": 4,
 "nbformat_minor": 5
}
