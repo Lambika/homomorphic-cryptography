{
 "cells": [
  {
   "cell_type": "code",
   "execution_count": 55,
   "id": "b24e1fa4",
   "metadata": {},
   "outputs": [],
   "source": [
    "import tenseal as ts\n",
    "import utils"
   ]
  },
  {
   "cell_type": "code",
   "execution_count": 56,
   "id": "47a61945",
   "metadata": {},
   "outputs": [],
   "source": [
    "context = ts.context_from(utils.read_data(\"keys/public_key.txt\"))"
   ]
  },
  {
   "cell_type": "markdown",
   "id": "a88e6299",
   "metadata": {},
   "source": [
    "# Ma Détection d'anomalies"
   ]
  },
  {
   "cell_type": "code",
   "execution_count": 57,
   "id": "802cafe4",
   "metadata": {},
   "outputs": [],
   "source": [
    "age_temp=utils.read_data(\"outputs_client/age_crypted.txt\")\n",
    "age_encryted=ts.lazy_ckks_vector_from(age_temp)\n",
    "age_encryted.link_context(context)\n"
   ]
  },
  {
   "cell_type": "code",
   "execution_count": 58,
   "id": "7bfb5f65",
   "metadata": {},
   "outputs": [
    {
     "name": "stdout",
     "output_type": "stream",
     "text": [
      "average_age_encrypted:  <tenseal.tensors.ckksvector.CKKSVector object at 0x00000215A927A520>\n"
     ]
    }
   ],
   "source": [
    "age_encryted_size = age_encryted.size()\n",
    "total = age_encryted.sum()\n",
    "average_age_encrypted = total *(1.0/ age_encryted_size)\n",
    "print(\"average_age_encrypted: \", average_age_encrypted)\n",
    "utils.write_data(\"outputs_server/average_age_encrypted.txt\", average_age_encrypted.serialize())\n",
    "\n"
   ]
  }
 ],
 "metadata": {
  "kernelspec": {
   "display_name": "Python 3",
   "language": "python",
   "name": "python3"
  },
  "language_info": {
   "codemirror_mode": {
    "name": "ipython",
    "version": 3
   },
   "file_extension": ".py",
   "mimetype": "text/x-python",
   "name": "python",
   "nbconvert_exporter": "python",
   "pygments_lexer": "ipython3",
   "version": "3.9.7"
  }
 },
 "nbformat": 4,
 "nbformat_minor": 5
}
