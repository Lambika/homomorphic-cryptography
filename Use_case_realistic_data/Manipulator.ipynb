{
 "cells": [
  {
   "cell_type": "code",
   "execution_count": 1,
   "id": "f29f3f40",
   "metadata": {},
   "outputs": [],
   "source": [
    "import tenseal as ts\n",
    "import utils"
   ]
  },
  {
   "cell_type": "code",
   "execution_count": 2,
   "id": "510dca9c",
   "metadata": {},
   "outputs": [],
   "source": [
    "import os\n",
    "from pathlib import Path\n",
    "#Pour  utiliser la clée publique , sans savoir le nom du fichier qui la contient.\n",
    "# Chemin vers le répertoire contenant la clé publique\n",
    "keys_dir = \"Keys_manipulator\"\n",
    "\n",
    "# Vérifier que le répertoire existe et contient exactement un fichier\n",
    "if os.path.exists(keys_dir) and os.path.isdir(keys_dir):\n",
    "    files = list(Path(keys_dir).glob('*'))\n",
    "    \n",
    "    if len(files) == 1:\n",
    "        # Prendre le premier (et seul) fichier trouvé\n",
    "        public_key_path = str(files[0])\n",
    "        context = ts.context_from(utils.read_data(public_key_path))\n",
    "    else:\n",
    "        raise FileNotFoundError(f\"Le répertoire {keys_dir} doit contenir exactement un fichier (contient {len(files)} fichiers)\")\n",
    "else:\n",
    "    raise FileNotFoundError(f\"Le répertoire {keys_dir} n'existe pas ou n'est pas un répertoire\")\n"
   ]
  },
  {
   "cell_type": "code",
   "execution_count": 3,
   "id": "d7150bd1",
   "metadata": {},
   "outputs": [],
   "source": [
    "#Resultat covid\n",
    "Parametre_a_manipuler_1 =\"Data_received/SARS_Cov_2_exam_result_encrypted.txt\"\n",
    "resultat_covid=utils.read_data(Parametre_a_manipuler_1)\n",
    "nombre_cas_positive= ts.ckks_vector_from(context,resultat_covid)\n",
    "nombre_cas_positive =nombre_cas_positive.sum()\n",
    "utils.write_data(\"outputs_manipulator/SARS_Cov_2_exam_result_SARS_Cov_2_exam_result_encrypted_computed.txt\",nombre_cas_positive.serialize())\n",
    "\n"
   ]
  },
  {
   "cell_type": "code",
   "execution_count": 5,
   "id": "a9d9cbbb",
   "metadata": {},
   "outputs": [],
   "source": [
    "#score  fever, dry_cough, chest_pain\n",
    "Parametre_a_manipuler_2_1 =\"Data_received/chest_pain_encrypted.txt\"\n",
    "Parametre_a_manipuler_2_2 =\"Data_received/dry_cough_encrypted.txt\"\n",
    "Parametre_a_manipuler_2_3 =\"Data_received/fever_encrypted.txt\"\n",
    "chest_pain=utils.read_data(Parametre_a_manipuler_2_1)\n",
    "dry_cough=utils.read_data(Parametre_a_manipuler_2_2)\n",
    "fever=utils.read_data(Parametre_a_manipuler_2_3)\n",
    "chest_pain= ts.ckks_vector_from(context,chest_pain)\n",
    "dry_cough= ts.ckks_vector_from(context,dry_cough)\n",
    "fever= ts.ckks_vector_from(context,fever)\n",
    "score = chest_pain + dry_cough + fever\n",
    "utils.write_data(\"outputs_manipulator/score_encrypted.txt\",score.serialize())\n"
   ]
  },
  {
   "cell_type": "code",
   "execution_count": null,
   "id": "81504c9d",
   "metadata": {},
   "outputs": [],
   "source": [
    "#Détéction de fièrvre dépassant 8 , sigmoid\n",
    "# Approximation simple de seuil : f(x) = (x - 8) * k\n",
    "# Si x < 5 → f(x) < 0 → proche de 0\n",
    "# Si x > 5 → f(x) > 0 → proche de 1\n",
    "# Parametre_a_manipuler_2_2 =\"Data_received/fever_encrypted.txt\"\n"
   ]
  }
 ],
 "metadata": {
  "kernelspec": {
   "display_name": "Python 3",
   "language": "python",
   "name": "python3"
  },
  "language_info": {
   "codemirror_mode": {
    "name": "ipython",
    "version": 3
   },
   "file_extension": ".py",
   "mimetype": "text/x-python",
   "name": "python",
   "nbconvert_exporter": "python",
   "pygments_lexer": "ipython3",
   "version": "3.9.7"
  }
 },
 "nbformat": 4,
 "nbformat_minor": 5
}
