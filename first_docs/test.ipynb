{
 "cells": [
  {
   "cell_type": "code",
   "execution_count": 29,
   "id": "518a8e49",
   "metadata": {},
   "outputs": [],
   "source": [
    "from lightphe  import LightPHE\n",
    "cs =LightPHE(algorithm_name=\"RSA\", key_size=1024)\n",
    "\n",
    "cs.export_keys(target_file=\"public.txt\", public =True)"
   ]
  },
  {
   "cell_type": "code",
   "execution_count": 30,
   "id": "45abe29b",
   "metadata": {},
   "outputs": [
    {
     "name": "stdout",
     "output_type": "stream",
     "text": [
      "Ciphertext(44881262835477546453561614790427945096723156796920414039010304459017227725434126444637248283802945236402389294735716263651277713788482765157758462866556012995675357168881599689196703944543751597556635736291381453829681538565556304053081969727904116593267924395613195144630778937130525363795866097944346240278)\n",
      "Ciphertext(65995583566170043886978689963640496263944568210755342286327938339553517279810255157073909418737493321684184265541914943774712400423796300190252409532328752718152364215940269497008579033277561098302667558504668441902578400165719731102431228990283486833208743279265961812782424489859556028673760945208388017428)\n"
     ]
    }
   ],
   "source": [
    "m1=1000\n",
    "c1=cs.encrypt(m1)\n",
    "print(c1)\n",
    "\n",
    "\n",
    "m2=20\n",
    "c2=cs.encrypt(m2)\n",
    "print(c2)\n",
    "\n"
   ]
  },
  {
   "cell_type": "code",
   "execution_count": 32,
   "id": "de803417",
   "metadata": {},
   "outputs": [
    {
     "name": "stdout",
     "output_type": "stream",
     "text": [
      "c2: 20\n",
      "c1: 1000\n"
     ]
    }
   ],
   "source": [
    "print(\"c2:\",cs.decrypt(c2))\n",
    "print(\"c1:\",cs.decrypt(c1))\n"
   ]
  },
  {
   "cell_type": "code",
   "execution_count": 37,
   "id": "d96d2814",
   "metadata": {},
   "outputs": [
    {
     "name": "stdout",
     "output_type": "stream",
     "text": [
      "c3: 20000\n"
     ]
    },
    {
     "data": {
      "text/plain": [
       "20000"
      ]
     },
     "execution_count": 37,
     "metadata": {},
     "output_type": "execute_result"
    }
   ],
   "source": [
    "c3=cs.create_ciphertext_obj(30646895463297186361475946638760844481461864970476617154819849992770845262487154395434800949173616096880723603728252881726131412460459293588120642994824573788548279585337931385412320606862953142887974999430427427340557704462019798420164087722424898604993410959581537251686931040942449806913817331650969784141)\n",
    "print(\"c3:\",cs.decrypt(c3))\n",
    "cs.decrypt(c3)"
   ]
  }
 ],
 "metadata": {
  "kernelspec": {
   "display_name": "Python 3",
   "language": "python",
   "name": "python3"
  },
  "language_info": {
   "codemirror_mode": {
    "name": "ipython",
    "version": 3
   },
   "file_extension": ".py",
   "mimetype": "text/x-python",
   "name": "python",
   "nbconvert_exporter": "python",
   "pygments_lexer": "ipython3",
   "version": "3.9.7"
  }
 },
 "nbformat": 4,
 "nbformat_minor": 5
}
