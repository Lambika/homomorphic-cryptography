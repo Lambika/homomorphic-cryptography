{
 "cells": [
  {
   "cell_type": "code",
   "execution_count": 20,
   "id": "518a8e49",
   "metadata": {},
   "outputs": [],
   "source": [
    "from lightphe  import LightPHE\n",
    "cs =LightPHE(algorithm_name=\"RSA\", key_size=1024)\n",
    "\n",
    "cs.export_keys(target_file=\"public.txt\", public =True)"
   ]
  },
  {
   "cell_type": "code",
   "execution_count": 21,
   "id": "45abe29b",
   "metadata": {},
   "outputs": [
    {
     "name": "stdout",
     "output_type": "stream",
     "text": [
      "Ciphertext(20027277502470577333421293987544017184369559425738512101406281787307706947631450122710941479516643291870411051288043421343581436520348819591385605320878814528981967498675719499928463777653473117182464110331075777137308020933247761316400900825791201347109623551024634950836558516697016960420630380222583797827)\n",
      "Ciphertext(14283070374317322312111895481423462614772812287004815105898726854125937143820263565486624398337791480003672570505848132669746077999774120887401128934440980014120116638922674028037855769819948219365602750088433928699035208243498051632832064525977686089736187404727620221455443250736495488320311949591277717647)\n"
     ]
    }
   ],
   "source": [
    "m1=1000\n",
    "c1=cs.encrypt(m1)\n",
    "print(c1)\n",
    "\n",
    "\n",
    "m2=20\n",
    "c2=cs.encrypt(m2)\n",
    "print(c2)\n",
    "\n"
   ]
  },
  {
   "cell_type": "code",
   "execution_count": 22,
   "id": "de803417",
   "metadata": {},
   "outputs": [
    {
     "name": "stdout",
     "output_type": "stream",
     "text": [
      "c2: 20\n",
      "c1: 1000\n"
     ]
    }
   ],
   "source": [
    "print(\"c2:\",cs.decrypt(c2))\n",
    "print(\"c1:\",cs.decrypt(c1))\n"
   ]
  },
  {
   "cell_type": "code",
   "execution_count": 23,
   "id": "d96d2814",
   "metadata": {},
   "outputs": [
    {
     "name": "stdout",
     "output_type": "stream",
     "text": [
      "c3: 20000\n"
     ]
    }
   ],
   "source": [
    "c3=cs.create_ciphertext_obj((16798194821134933417121656956150424637013603127075266343877808482389048280779051157783162352717365321579177454566513449310593597611537409710644319584441727165820389232345842102672678016699002828843469727581689234787952684484533432752098480189493819345019774127917721196636394843408019868851686665534991833069))\n",
    "cs.decrypt(c3)\n",
    "print(\"c3:\",cs.decrypt(c3))"
   ]
  }
 ],
 "metadata": {
  "kernelspec": {
   "display_name": "Python 3",
   "language": "python",
   "name": "python3"
  },
  "language_info": {
   "codemirror_mode": {
    "name": "ipython",
    "version": 3
   },
   "file_extension": ".py",
   "mimetype": "text/x-python",
   "name": "python",
   "nbconvert_exporter": "python",
   "pygments_lexer": "ipython3",
   "version": "3.9.7"
  }
 },
 "nbformat": 4,
 "nbformat_minor": 5
}
