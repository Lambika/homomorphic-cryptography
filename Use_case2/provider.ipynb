{
 "cells": [
  {
   "cell_type": "markdown",
   "id": "71807e5a",
   "metadata": {},
   "source": [
    "L'idée : C'est que le client fournit un audio( vocale) le chiffre en cryptage fully homomrophique , et l'envoie au serveur  :\n",
    "\n",
    "Le serveur ferra deux manipulations intéressantes:\n",
    "- calcule la durée du silence de l'audio  et la durée du son  \n",
    "- comparer deux audios pour savoir si deux personnes ont dit la même chose ( plus difficile mais théoriqument faisable)\n",
    "  |-> Comme pour faire ceci il suffit de transformé les audios en vecteurs , les chiffrées  puis le serveur calcule la distance euclidienne ou la corrélation\n",
    "  |-> Limite comme c'est principalement des vecteur de flottants , on va devoir manipuler avec un schéma CKKS  , sauf que genère du bruit après chaque multiplication,\n",
    "  donc va falloir bien manipuler le contexte et choisir ses arguments \n"
   ]
  },
  {
   "cell_type": "code",
   "execution_count": 3,
   "id": "b5ef0457",
   "metadata": {},
   "outputs": [],
   "source": [
    "import scipy as sp\n",
    "import numpy as np\n",
    "import librosa\n",
    "import tenseal as ts\n",
    "import utils\n",
    "import soundfile as sf\n"
   ]
  },
  {
   "cell_type": "code",
   "execution_count": 5,
   "id": "c0a3af96",
   "metadata": {},
   "outputs": [
    {
     "ename": "NameError",
     "evalue": "name 'audio_artifiel_pomme_java' is not defined",
     "output_type": "error",
     "traceback": [
      "\u001b[1;31m---------------------------------------------------------------------------\u001b[0m",
      "\u001b[1;31mNameError\u001b[0m                                 Traceback (most recent call last)",
      "Cell \u001b[1;32mIn[5], line 3\u001b[0m\n\u001b[0;32m      1\u001b[0m \u001b[38;5;66;03m# audio_artifiel_pomme_java, sr = librosa.load('my_data/artificiel_pomme_java.mp3', sr=None)\u001b[39;00m\n\u001b[0;32m      2\u001b[0m audio_2s_delay,sd \u001b[38;5;241m=\u001b[39m librosa\u001b[38;5;241m.\u001b[39mload(\u001b[38;5;124m'\u001b[39m\u001b[38;5;124mmy_data/python_banane_ia_2sdelay.mp3\u001b[39m\u001b[38;5;124m'\u001b[39m, sr\u001b[38;5;241m=\u001b[39m\u001b[38;5;28;01mNone\u001b[39;00m)\n\u001b[1;32m----> 3\u001b[0m \u001b[38;5;28mprint\u001b[39m(\u001b[38;5;124m\"\u001b[39m\u001b[38;5;124maudio\u001b[39m\u001b[38;5;124m\"\u001b[39m,\u001b[43maudio_artifiel_pomme_java\u001b[49m)\n\u001b[0;32m      4\u001b[0m \u001b[38;5;28mprint\u001b[39m(\u001b[38;5;124m\"\u001b[39m\u001b[38;5;124maudio shape\u001b[39m\u001b[38;5;124m\"\u001b[39m,audio_artifiel_pomme_java\u001b[38;5;241m.\u001b[39mshape)\n\u001b[0;32m      5\u001b[0m \u001b[38;5;66;03m# print(\"sr\",sr)\u001b[39;00m\n\u001b[0;32m      6\u001b[0m \u001b[38;5;66;03m# print(f\"Taux d'échantillonnage: {sr}\")\u001b[39;00m\n\u001b[0;32m      7\u001b[0m \u001b[38;5;66;03m# print(f\"Nombre d'échantillons: {len(audio_artifiel_pomme_java)}\")\u001b[39;00m\n",
      "\u001b[1;31mNameError\u001b[0m: name 'audio_artifiel_pomme_java' is not defined"
     ]
    }
   ],
   "source": [
    "# audio_artifiel_pomme_java, sr = librosa.load('my_data/artificiel_pomme_java.mp3', sr=None)\n",
    "audio_2s_delay,sd = librosa.load('my_data/python_banane_ia_2sdelay.mp3', sr=None)\n",
    "print(\"audio\",audio_artifiel_pomme_java)\n",
    "print(\"audio shape\",audio_artifiel_pomme_java.shape)\n",
    "# print(\"sr\",sr)\n",
    "# print(f\"Taux d'échantillonnage: {sr}\")\n",
    "# print(f\"Nombre d'échantillons: {len(audio_artifiel_pomme_java)}\")\n",
    "\n",
    "bits_scale = 24\n",
    "context=ts.context(\n",
    "            ts.SCHEME_TYPE.CKKS,\n",
    "            poly_modulus_degree=16384,\n",
    "            coeff_mod_bit_sizes=[60, 40, 40, 60]\n",
    "        )\n",
    "context.global_scale = pow(2, bits_scale)\n",
    "context.generate_galois_keys()\n",
    "my_secret_key = context.serialize(save_secret_key=True)\n",
    "utils.write_data(\"Keys_provider/secret_key.txt\", my_secret_key)\n",
    "context.make_context_public()\n",
    "public_key=context.serialize()\n",
    "utils.write_data(\"Keys_provider/public_key.txt\", public_key)\n",
    "\n",
    "\n",
    "audio_2s_delay_encrypted = ts.ckks_vector(context, audio_2s_delay)\n",
    "audio_artifiel_pomme_java_encrypted = ts.ckks_vector(context, audio_artifiel_pomme_java)\n",
    "utils.write_data(\"output_provider/python_banane_ia_2sdelay_encrypted.txt\", audio_2s_delay_encrypted.serialize())\n",
    "utils.write_data(\"output_provider/artificiel_pomme_java_encrypted.txt\", audio_artifiel_pomme_java_encrypted.serialize())\n"
   ]
  },
  {
   "cell_type": "code",
   "execution_count": 42,
   "id": "e1cdde3f",
   "metadata": {},
   "outputs": [
    {
     "name": "stdout",
     "output_type": "stream",
     "text": [
      "sigmoid_decrypted : 35712\n"
     ]
    }
   ],
   "source": [
    "loaded_secret_key = utils.read_data(\"Keys_provider/secret_key.txt\")\n",
    "secret_key = ts.context_from(loaded_secret_key).secret_key()\n",
    "\n",
    "sigmoid_enc = utils.read_data(\"uploads/artificiel_pomme_java_manipulated_encrypted.txt\")\n",
    "sigmoid_vector = ts.lazy_ckks_vector_from(sigmoid_enc)\n",
    "sigmoid_vector.link_context(context)\n",
    "\n",
    "\n",
    "sigmoid_decrypted = sigmoid_vector.decrypt(secret_key)\n",
    "print(f\"sigmoid_decrypted :\",len(sigmoid_decrypted)) \n",
    "sf.write(\"reconstruit.wav\", sigmoid_decrypted, 24000)"
   ]
  }
 ],
 "metadata": {
  "kernelspec": {
   "display_name": "Python 3",
   "language": "python",
   "name": "python3"
  },
  "language_info": {
   "codemirror_mode": {
    "name": "ipython",
    "version": 3
   },
   "file_extension": ".py",
   "mimetype": "text/x-python",
   "name": "python",
   "nbconvert_exporter": "python",
   "pygments_lexer": "ipython3",
   "version": "3.9.7"
  }
 },
 "nbformat": 4,
 "nbformat_minor": 5
}
