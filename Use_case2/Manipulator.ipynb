{
 "cells": [
  {
   "cell_type": "code",
   "execution_count": 2,
   "id": "f29f3f40",
   "metadata": {},
   "outputs": [],
   "source": [
    "import tenseal as ts\n",
    "import utils"
   ]
  },
  {
   "cell_type": "code",
   "execution_count": 3,
   "id": "510dca9c",
   "metadata": {},
   "outputs": [],
   "source": [
    "#Pour la clée publique\n",
    "import os\n",
    "from pathlib import Path\n",
    "\n",
    "keys_dir = \"Keys_manipulator\"\n",
    "\n",
    "if os.path.exists(keys_dir) and os.path.isdir(keys_dir):\n",
    "    files = list(Path(keys_dir).glob('*'))\n",
    "    \n",
    "    if len(files) == 1:\n",
    "        \n",
    "        public_key_path = str(files[0])\n",
    "        context = ts.context_from(utils.read_data(public_key_path))\n",
    "    else:\n",
    "        raise FileNotFoundError(f\"Le répertoire {keys_dir} doit contenir exactement un fichier (contient {len(files)} fichiers)\")\n",
    "else:\n",
    "    raise FileNotFoundError(f\"Le répertoire {keys_dir} n'existe pas ou n'est pas un répertoire\")\n"
   ]
  },
  {
   "cell_type": "code",
   "execution_count": 16,
   "id": "81504c9d",
   "metadata": {},
   "outputs": [
    {
     "name": "stdout",
     "output_type": "stream",
     "text": [
      "f\n"
     ]
    }
   ],
   "source": [
    "#Test basique\n",
    "# artificiel_pomme_java= \"Data_received/artificiel_pomme_java_encrypted.txt\"\n",
    "# artificiel_pomme_java = utils.read_data(artificiel_pomme_java)\n",
    "# artificiel_pomme_java = ts.ckks_vector_from(context, artificiel_pomme_java)\n",
    "\n",
    "# utils.write_data(\"outputs_manipulator/artificiel_pomme_java_manipulated_encrypted.txt\", artificiel_pomme_java.serialize())\n",
    "print(\"f\")\n"
   ]
  },
  {
   "cell_type": "code",
   "execution_count": null,
   "id": "97dc6b0d",
   "metadata": {},
   "outputs": [
    {
     "name": "stdout",
     "output_type": "stream",
     "text": [
      "test 184896\n"
     ]
    }
   ],
   "source": [
    "#Detection de silence \n",
    "# -Combien y'a de secondes de silence  et combien y'a de secondes de son\n",
    "ma_piste=\"Data_received/python_banane_ia_2sdelay_encrypted.txt\"\n",
    "ma_piste = utils.read_data(ma_piste)\n",
    "\n",
    "ma_piste = ts.ckks_vector_from(context, ma_piste)\n"
   ]
  }
 ],
 "metadata": {
  "kernelspec": {
   "display_name": "Python 3",
   "language": "python",
   "name": "python3"
  },
  "language_info": {
   "codemirror_mode": {
    "name": "ipython",
    "version": 3
   },
   "file_extension": ".py",
   "mimetype": "text/x-python",
   "name": "python",
   "nbconvert_exporter": "python",
   "pygments_lexer": "ipython3",
   "version": "3.9.7"
  }
 },
 "nbformat": 4,
 "nbformat_minor": 5
}
